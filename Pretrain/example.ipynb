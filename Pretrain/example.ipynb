{
 "cells": [
  {
   "cell_type": "markdown",
   "id": "f089ac58-bda6-4272-9d8e-eae234bd3538",
   "metadata": {},
   "source": [
    "# MORE"
   ]
  },
  {
   "cell_type": "code",
   "execution_count": 1,
   "id": "db286ca2-3281-46ab-ae4e-51b40ffb9f7f",
   "metadata": {
    "scrolled": true
   },
   "outputs": [
    {
     "name": "stdout",
     "output_type": "stream",
     "text": [
      "Namespace(device=1, batch_size=256, epochs=1, lr=0.001, decay=0, num_layer=5, emb_dim=300, dropout_ratio=0.2, mask_rate=0.25, mask_edge=0, JK='last', dataset='zinc_2m_MD', output_model_file='MORE_example', gnn_type='gin', seed=42, num_workers=0, input_model_file=None, alpha_l=1.0, loss_fn='sce', decoder='gin', use_scheduler=False, graph_pooling='mean', run_seed=-1, node_mode=True, ae_lambda=4.5, dec_layer=1, maccs_mode=True, maccs_alpha=5.0, maccs_decay=0, maccs_drop=0.2, descriptor_mode=True, des_beta=1.0, des_decay=0.001, des_drop=0.2, dist_mode=True, dist_dim=30, dist_emb=256, dist_gamma=0.04, dist_decay=0.001, dist_drop=0.2)\n",
      "num layer: 5 mask rate: 0.250000 mask edge: 0\n",
      "\n",
      "### set up dataset and transform function.\n",
      "[dataset] - MoleculeDataset\n",
      "MoleculeDataset(1974507)\n",
      "Data(x=[52588457, 2], edge_index=[2, 113966308], edge_attr=[113966308, 2], descriptors_ss=[1974507, 194], smiles=[1974507], min1pos=[95672726, 3], min2pos=[95672726, 3], min3pos=[95672726, 3], maccs=[1974507, 155], id=[1974507])\n",
      "train: MoleculeDataset(1777056), valid: MoleculeDataset(197451)\n",
      "\n",
      "### set up models, one for pre-training and one for context embeddings\n",
      "[Model Architecture]\n",
      "model 1\n",
      "GNN(\n",
      "  (x_embedding1): Embedding(120, 300)\n",
      "  (x_embedding2): Embedding(8, 300)\n",
      "  (gnns): ModuleList(\n",
      "    (0): GINConv()\n",
      "    (1): GINConv()\n",
      "    (2): GINConv()\n",
      "    (3): GINConv()\n",
      "    (4): GINConv()\n",
      "  )\n",
      "  (batch_norms): ModuleList(\n",
      "    (0): BatchNorm1d(300, eps=1e-05, momentum=0.1, affine=True, track_running_stats=True)\n",
      "    (1): BatchNorm1d(300, eps=1e-05, momentum=0.1, affine=True, track_running_stats=True)\n",
      "    (2): BatchNorm1d(300, eps=1e-05, momentum=0.1, affine=True, track_running_stats=True)\n",
      "    (3): BatchNorm1d(300, eps=1e-05, momentum=0.1, affine=True, track_running_stats=True)\n",
      "    (4): BatchNorm1d(300, eps=1e-05, momentum=0.1, affine=True, track_running_stats=True)\n",
      "  )\n",
      ")\n",
      "model 2\n",
      "GNNDecoders(\n",
      "  (conv): ModuleList(\n",
      "    (0): GINConv()\n",
      "  )\n",
      "  (enc_to_dec): Linear(in_features=300, out_features=300, bias=False)\n",
      "  (activation): PReLU(num_parameters=1)\n",
      ")\n",
      "model 3\n",
      "MACCSPredictor(\n",
      "  (pred_layers): Sequential(\n",
      "    (0): Linear(in_features=300, out_features=256, bias=True)\n",
      "    (1): PReLU(num_parameters=1)\n",
      "    (2): Dropout(p=0.2, inplace=False)\n",
      "    (3): Linear(in_features=256, out_features=155, bias=True)\n",
      "  )\n",
      ")\n",
      "model 4\n",
      "DescriptorPredictor(\n",
      "  (pred_layers): Sequential(\n",
      "    (0): Linear(in_features=300, out_features=256, bias=True)\n",
      "    (1): PReLU(num_parameters=1)\n",
      "    (2): Dropout(p=0.2, inplace=False)\n",
      "    (3): Linear(in_features=256, out_features=194, bias=True)\n",
      "  )\n",
      ")\n",
      "model 5\n",
      "Decoder_DistPreds(\n",
      "  (node_emb): Sequential(\n",
      "    (0): Linear(in_features=300, out_features=256, bias=True)\n",
      "    (1): ReLU()\n",
      "    (2): Dropout(p=0.2, inplace=False)\n",
      "    (3): Linear(in_features=256, out_features=128, bias=True)\n",
      "    (4): ReLU()\n",
      "    (5): Dropout(p=0.2, inplace=False)\n",
      "    (6): Linear(in_features=128, out_features=30, bias=True)\n",
      "  )\n",
      ")\n",
      "\n",
      "[Optimizer]\n",
      "Optimizer 1\n",
      "Adam (\n",
      "Parameter Group 0\n",
      "    amsgrad: False\n",
      "    betas: (0.9, 0.999)\n",
      "    capturable: False\n",
      "    differentiable: False\n",
      "    eps: 1e-08\n",
      "    foreach: None\n",
      "    fused: False\n",
      "    lr: 0.001\n",
      "    maximize: False\n",
      "    weight_decay: 0\n",
      ")\n",
      "Optimizer 2\n",
      "Adam (\n",
      "Parameter Group 0\n",
      "    amsgrad: False\n",
      "    betas: (0.9, 0.999)\n",
      "    capturable: False\n",
      "    differentiable: False\n",
      "    eps: 1e-08\n",
      "    foreach: None\n",
      "    fused: False\n",
      "    lr: 0.001\n",
      "    maximize: False\n",
      "    weight_decay: 0\n",
      ")\n",
      "Optimizer 3\n",
      "Adam (\n",
      "Parameter Group 0\n",
      "    amsgrad: False\n",
      "    betas: (0.9, 0.999)\n",
      "    capturable: False\n",
      "    differentiable: False\n",
      "    eps: 1e-08\n",
      "    foreach: None\n",
      "    fused: False\n",
      "    lr: 0.001\n",
      "    maximize: False\n",
      "    weight_decay: 0\n",
      ")\n",
      "Optimizer 4\n",
      "Adam (\n",
      "Parameter Group 0\n",
      "    amsgrad: False\n",
      "    betas: (0.9, 0.999)\n",
      "    capturable: False\n",
      "    differentiable: False\n",
      "    eps: 1e-08\n",
      "    foreach: None\n",
      "    fused: False\n",
      "    lr: 0.001\n",
      "    maximize: False\n",
      "    weight_decay: 0.001\n",
      ")\n",
      "Optimizer 5\n",
      "Adam (\n",
      "Parameter Group 0\n",
      "    amsgrad: False\n",
      "    betas: (0.9, 0.999)\n",
      "    capturable: False\n",
      "    differentiable: False\n",
      "    eps: 1e-08\n",
      "    foreach: None\n",
      "    fused: False\n",
      "    lr: 0.001\n",
      "    maximize: False\n",
      "    weight_decay: 0.001\n",
      ")\n",
      "\n",
      "==== Epoch 1 - Node-level True || Subgraph-level True || Graph-level True || 3D-level True\n",
      "train_loss: 1.2926: 100%|███████████████████| 6942/6942 [17:35<00:00,  6.58it/s]\n",
      "valid_loss: 1.2609: 100%|█████████████████████| 772/772 [01:22<00:00,  9.36it/s]\n",
      "[TRAIN] Loss: 1.7781321588733017\n",
      "[VALID] Loss: 1.2698773107071615\n",
      "[TRAIN NODE-level] NODE Loss: 0.085033  NODE_lambda Loss: 0.382649\n",
      "[VALID NODE-level] NODE Loss: 0.070198\n",
      "[TRAIN Subgraph-level] Subgraph Loss: 0.142931  Subgraph_lambda Loss: 0.714653\n",
      "[VALID Subgraph-level] Subgraph Loss: 0.084798\n",
      "[TRAIN Graph-level] Graph Loss: 0.472092  Graph_lambda Loss: 0.472092\n",
      "[VALID Graph-level] Graph Loss: 0.329231\n",
      "[TRAIN 3D] 3D Loss: 5.218454  3D_lambda Loss: 0.208738\n",
      "[VALID 3D] 3D Loss: 5.019168\n",
      "\n"
     ]
    }
   ],
   "source": [
    "!python pretraining.py \\\n",
    "    --device 0 --batch_size 256 --epochs 1 --dataset 'zinc_2m_MD' --dropout_ratio 0.2 \\\n",
    "    --node_mode --ae_lambda 4.5 --mask_rate 0.25 \\\n",
    "    --maccs_mode --maccs_alpha 5.0 --maccs_drop 0.2 \\\n",
    "    --descriptor_mode --des_beta 1.0 --des_drop 0.2 --des_decay 0.001 \\\n",
    "    --dist_mode --dist_gamma 0.04 --dist_emb 256 --dist_dim 30 --dist_drop 0.2 --dist_decay 0.001 \\\n",
    "    --output_model_file \"MORE_example\""
   ]
  },
  {
   "cell_type": "code",
   "execution_count": null,
   "id": "9ce40ecc-a149-499c-808b-83a74a44bb30",
   "metadata": {},
   "outputs": [],
   "source": []
  },
  {
   "cell_type": "markdown",
   "id": "40314850-0752-4157-ae63-a5fc437369e6",
   "metadata": {},
   "source": [
    "# Leave-one-out"
   ]
  },
  {
   "cell_type": "markdown",
   "id": "a0094384-73d9-41fc-947d-f0d56ad979c2",
   "metadata": {},
   "source": [
    "## w/o NODE"
   ]
  },
  {
   "cell_type": "code",
   "execution_count": null,
   "id": "e77f069c-e976-4308-b46b-833cd5f13417",
   "metadata": {},
   "outputs": [],
   "source": [
    "!python pretraining.py \\\n",
    "    --device 0 --batch_size 256 --epochs 100 --dataset 'zinc_2m_MD' --dropout_ratio 0.2 \\\n",
    "    --maccs_mode --maccs_alpha 5.0 --maccs_drop 0.2 \\\n",
    "    --descriptor_mode --des_beta 1.0 --des_drop 0.2 --des_decay 0.001 \\\n",
    "    --dist_mode --dist_gamma 0.04 --dist_emb 256 --dist_dim 30 --dist_drop 0.2 --dist_decay 0.001 \\\n",
    "    --output_model_file \"wo_node_example\""
   ]
  },
  {
   "cell_type": "code",
   "execution_count": null,
   "id": "70c3f006-5059-437f-a810-cd429c03b220",
   "metadata": {},
   "outputs": [],
   "source": []
  },
  {
   "cell_type": "markdown",
   "id": "b345359b-5f98-474a-b9bb-580fd5082155",
   "metadata": {},
   "source": [
    "## w/o Subgraph"
   ]
  },
  {
   "cell_type": "code",
   "execution_count": null,
   "id": "91c23885-8648-4ce4-ba58-50ccf0277a28",
   "metadata": {},
   "outputs": [],
   "source": [
    "!python pretraining.py \\\n",
    "    --device 0 --batch_size 256 --epochs 100 --dataset 'zinc_2m_MD' --dropout_ratio 0.2 \\\n",
    "    --node_mode --ae_lambda 4.5 --mask_rate 0.25 \\\n",
    "    --descriptor_mode --des_beta 1.0 --des_drop 0.2 --des_decay 0.001 \\\n",
    "    --dist_mode --dist_gamma 0.04 --dist_emb 256 --dist_dim 30 --dist_drop 0.2 --dist_decay 0.001 \\\n",
    "    --output_model_file \"wo_subgraph_example\""
   ]
  },
  {
   "cell_type": "code",
   "execution_count": null,
   "id": "163d52d4-ce48-4aed-98fe-3b3d5958da6e",
   "metadata": {},
   "outputs": [],
   "source": []
  },
  {
   "cell_type": "markdown",
   "id": "e309c873-7bd9-4acf-b127-88efb9445a19",
   "metadata": {},
   "source": [
    "## w/o Graph"
   ]
  },
  {
   "cell_type": "code",
   "execution_count": null,
   "id": "a32dd4e9-fb05-4409-b31b-ae809369c440",
   "metadata": {},
   "outputs": [],
   "source": [
    "!python pretraining.py \\\n",
    "    --device 0 --batch_size 256 --epochs 100 --dataset 'zinc_2m_MD' --dropout_ratio 0.2 \\\n",
    "    --node_mode --ae_lambda 4.5 --mask_rate 0.25 \\\n",
    "    --maccs_mode --maccs_alpha 5.0 --maccs_drop 0.2 \\\n",
    "    --dist_mode --dist_gamma 0.04 --dist_emb 256 --dist_dim 30 --dist_drop 0.2 --dist_decay 0.001 \\\n",
    "    --output_model_file \"wo_graph_example\""
   ]
  },
  {
   "cell_type": "code",
   "execution_count": null,
   "id": "6bd080a8-6c1f-454e-bc26-6a2673fce3c7",
   "metadata": {},
   "outputs": [],
   "source": []
  },
  {
   "cell_type": "markdown",
   "id": "faa245aa-75d1-442c-a30c-99bfad858b9c",
   "metadata": {},
   "source": [
    "## w/o 3D"
   ]
  },
  {
   "cell_type": "code",
   "execution_count": null,
   "id": "9a19e03f-cf58-4d04-9706-b3e6f02bfe72",
   "metadata": {},
   "outputs": [],
   "source": [
    "!python pretraining.py \\\n",
    "    --device 0 --batch_size 256 --epochs 100 --dataset 'zinc_2m_MD' --dropout_ratio 0.2 \\\n",
    "    --node_mode --ae_lambda 4.5 --mask_rate 0.25 \\\n",
    "    --maccs_mode --maccs_alpha 5.0 --maccs_drop 0.2 \\\n",
    "    --descriptor_mode --des_beta 1.0 --des_drop 0.2 --des_decay 0.001 \\\n",
    "    --output_model_file \"wo_3d_example\""
   ]
  },
  {
   "cell_type": "code",
   "execution_count": null,
   "id": "3975cc32-dd8b-4e56-a6e4-a1ebcf449aab",
   "metadata": {},
   "outputs": [],
   "source": []
  },
  {
   "cell_type": "markdown",
   "id": "a0c7b5d1-20dd-4c61-995c-de5d5dfa41d7",
   "metadata": {},
   "source": [
    "# Single-task"
   ]
  },
  {
   "cell_type": "markdown",
   "id": "8a6edbf6-719c-478a-8b13-0e7c0781fd5c",
   "metadata": {},
   "source": [
    "## NODE"
   ]
  },
  {
   "cell_type": "code",
   "execution_count": null,
   "id": "edefb232-04f1-4da5-84b9-0d10587c567d",
   "metadata": {},
   "outputs": [],
   "source": [
    "!python pretraining.py \\\n",
    "    --device 0 --batch_size 256 --epochs 100 --dataset 'zinc_2m_MD' --dropout_ratio 0.2 \\\n",
    "    --node_mode --ae_lambda 1.0 --mask_rate 0.25 \\\n",
    "    --output_model_file \"Node_example\""
   ]
  },
  {
   "cell_type": "code",
   "execution_count": null,
   "id": "4e07a455-3935-4f68-9158-b1358c0c0f71",
   "metadata": {},
   "outputs": [],
   "source": []
  },
  {
   "cell_type": "markdown",
   "id": "4e92e3d7-6d4b-46e5-8337-dcd5369b583d",
   "metadata": {},
   "source": [
    "## Subgraph"
   ]
  },
  {
   "cell_type": "code",
   "execution_count": null,
   "id": "70878130-9521-4934-918e-8ca958454165",
   "metadata": {},
   "outputs": [],
   "source": [
    "!python pretraining.py \\\n",
    "    --device 0 --batch_size 256 --epochs 100 --dataset 'zinc_2m_MD' --dropout_ratio 0.2 \\\n",
    "    --maccs_mode --maccs_alpha 1.0 --maccs_drop 0.2 \\\n",
    "    --output_model_file \"Subgraph_example\""
   ]
  },
  {
   "cell_type": "code",
   "execution_count": null,
   "id": "c7b740b1-df40-4bbf-a780-a7f2c31f109f",
   "metadata": {},
   "outputs": [],
   "source": []
  },
  {
   "cell_type": "markdown",
   "id": "007211db-fe8e-472d-9f17-20a5c5e37575",
   "metadata": {},
   "source": [
    "## Graph"
   ]
  },
  {
   "cell_type": "code",
   "execution_count": null,
   "id": "00acf23b-77e0-4728-928f-991aea607ba1",
   "metadata": {},
   "outputs": [],
   "source": [
    "!python pretraining.py \\\n",
    "    --device 0 --batch_size 256 --epochs 100 --dataset 'zinc_2m_MD' --dropout_ratio 0.2 \\\n",
    "    --descriptor_mode --des_beta 1.0 --des_drop 0.2 --des_decay 0.001 \\\n",
    "    --output_model_file \"Graph_example\""
   ]
  },
  {
   "cell_type": "code",
   "execution_count": null,
   "id": "69c5423a-7690-4b7a-adb8-cfac4dbba6d2",
   "metadata": {},
   "outputs": [],
   "source": []
  },
  {
   "cell_type": "markdown",
   "id": "d80d923c-0da2-419f-82ea-53201723429f",
   "metadata": {},
   "source": [
    "## 3D"
   ]
  },
  {
   "cell_type": "code",
   "execution_count": null,
   "id": "6cb82482-2788-446e-b380-76d8bdf5802d",
   "metadata": {},
   "outputs": [],
   "source": [
    "!python pretraining.py \\\n",
    "    --device 0 --batch_size 256 --epochs 100 --dataset 'zinc_2m_MD' --dropout_ratio 0.2 \\\n",
    "    --dist_mode --dist_gamma 1.0 --dist_emb 256 --dist_dim 30 --dist_drop 0.2 --dist_decay 0.001 \\\n",
    "    --output_model_file \"D3_example\""
   ]
  },
  {
   "cell_type": "code",
   "execution_count": null,
   "id": "267ab468-bf0e-4f6b-90a8-8a5af1a1b5c4",
   "metadata": {},
   "outputs": [],
   "source": []
  }
 ],
 "metadata": {
  "kernelspec": {
   "display_name": "Python 3 (ipykernel)",
   "language": "python",
   "name": "python3"
  },
  "language_info": {
   "codemirror_mode": {
    "name": "ipython",
    "version": 3
   },
   "file_extension": ".py",
   "mimetype": "text/x-python",
   "name": "python",
   "nbconvert_exporter": "python",
   "pygments_lexer": "ipython3",
   "version": "3.10.8"
  }
 },
 "nbformat": 4,
 "nbformat_minor": 5
}
